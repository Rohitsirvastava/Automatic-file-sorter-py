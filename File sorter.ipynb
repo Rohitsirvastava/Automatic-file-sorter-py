{
 "cells": [
  {
   "cell_type": "markdown",
   "id": "53de1bc2-a85e-4ee9-be1b-d38b309d8e69",
   "metadata": {},
   "source": [
    "# Automatic file sorter in file explorer"
   ]
  },
  {
   "cell_type": "code",
   "execution_count": 42,
   "id": "36cb398e-59fc-415d-8e99-6914a38e66ea",
   "metadata": {},
   "outputs": [],
   "source": [
    "import os, shutil"
   ]
  },
  {
   "cell_type": "code",
   "execution_count": 43,
   "id": "b82642cf-35f6-40ef-bacd-86d6eb592af9",
   "metadata": {},
   "outputs": [],
   "source": [
    "path = r\"A:/File sorter/\""
   ]
  },
  {
   "cell_type": "code",
   "execution_count": 44,
   "id": "c3f2ba56-5997-4ee8-b11a-d1c667ca4594",
   "metadata": {},
   "outputs": [],
   "source": [
    "file_name = os.listdir(path)"
   ]
  },
  {
   "cell_type": "code",
   "execution_count": 45,
   "id": "833dc2a6-f1b5-4e87-8aa2-163979ba69bf",
   "metadata": {},
   "outputs": [],
   "source": [
    "folders_name = ['jpeg files','pdf files','xlsx files','mp4 files','jpg files']\n",
    "\n",
    "for loop in range (0,5):\n",
    "    if not os.path.exists(path + folders_name[loop]):\n",
    "        os.makedirs((path + folders_name[loop]))\n",
    "\n",
    "for file in file_name:\n",
    "   if \".jpeg\" in file and not os.path.exists(path + \"jpeg files/\" + file):\n",
    "    shutil.move(path + file, path + \"jpeg files/\" + file)\n",
    "   elif \".pdf\" in file and not os.path.exists(path + \"pdf files/\" + file):\n",
    "    shutil.move(path + file, path + \"pdf files/\" + file)\n",
    "   elif \".xlsx\" in file and not os.path.exists(path + \"xlsx files/\" + file):\n",
    "    shutil.move(path + file, path + \"xlsx files/\" + file)\n",
    "   elif \".mp4\" in file and not os.path.exists(path + \"mp4 files/\" + file):\n",
    "    shutil.move(path + file, path + \"mp4 files/\" + file)\n",
    "   elif \".jpg\" in file and not os.path.exists(path + \"jpg files/\" + file):\n",
    "    shutil.move(path + file, path + \"jpg files/\" + file)"
   ]
  },
  {
   "cell_type": "code",
   "execution_count": 41,
   "id": "6695c4d2-0ae1-4363-b320-e794d56367b8",
   "metadata": {},
   "outputs": [],
   "source": []
  },
  {
   "cell_type": "code",
   "execution_count": null,
   "id": "88898eef-4695-4202-97b5-74efa9ef3143",
   "metadata": {},
   "outputs": [],
   "source": []
  },
  {
   "cell_type": "code",
   "execution_count": null,
   "id": "b94eee7f-c231-4a07-bc72-497661d97471",
   "metadata": {},
   "outputs": [],
   "source": []
  },
  {
   "cell_type": "code",
   "execution_count": null,
   "id": "a4e83bf2-e21a-4796-81df-d22eba103496",
   "metadata": {},
   "outputs": [],
   "source": []
  },
  {
   "cell_type": "code",
   "execution_count": null,
   "id": "427e660c-ebf8-4f8c-ae2b-5cd4ad617197",
   "metadata": {},
   "outputs": [],
   "source": []
  },
  {
   "cell_type": "code",
   "execution_count": null,
   "id": "200051bd-deda-4d6d-90e3-34d52649433e",
   "metadata": {},
   "outputs": [],
   "source": []
  },
  {
   "cell_type": "code",
   "execution_count": null,
   "id": "406fe3b9-696e-45eb-953e-5d261342ac39",
   "metadata": {},
   "outputs": [],
   "source": []
  },
  {
   "cell_type": "code",
   "execution_count": null,
   "id": "289371bd-5184-4c14-84f7-6dcc80148611",
   "metadata": {},
   "outputs": [],
   "source": []
  },
  {
   "cell_type": "code",
   "execution_count": null,
   "id": "8ffdcfe2-4d48-4896-91e6-350dcc51d7ce",
   "metadata": {},
   "outputs": [],
   "source": []
  },
  {
   "cell_type": "code",
   "execution_count": null,
   "id": "aeae4f31-a6c0-487a-94bd-e0e49dbe85e3",
   "metadata": {},
   "outputs": [],
   "source": []
  },
  {
   "cell_type": "code",
   "execution_count": null,
   "id": "eafb6a1b-cadf-4c4d-96a1-6332eefcb7be",
   "metadata": {},
   "outputs": [],
   "source": []
  },
  {
   "cell_type": "code",
   "execution_count": null,
   "id": "0e58a252-cd57-4b3a-bf10-768cbff02b21",
   "metadata": {},
   "outputs": [],
   "source": []
  },
  {
   "cell_type": "code",
   "execution_count": null,
   "id": "1fae317c-f93d-458a-81ff-9aaf7119a1aa",
   "metadata": {},
   "outputs": [],
   "source": []
  },
  {
   "cell_type": "code",
   "execution_count": null,
   "id": "39948fc8-9d56-46b8-8c3c-9947e003345b",
   "metadata": {},
   "outputs": [],
   "source": []
  },
  {
   "cell_type": "code",
   "execution_count": null,
   "id": "1a4a7761-8a9b-4c15-8698-2fde7092b2c0",
   "metadata": {},
   "outputs": [],
   "source": []
  },
  {
   "cell_type": "code",
   "execution_count": null,
   "id": "0ca68e57-8ac1-4dd5-89e8-d7888f0f6fe1",
   "metadata": {},
   "outputs": [],
   "source": []
  },
  {
   "cell_type": "code",
   "execution_count": null,
   "id": "10b40b7c-7c73-4d55-a30a-cc5a53572293",
   "metadata": {},
   "outputs": [],
   "source": []
  },
  {
   "cell_type": "code",
   "execution_count": null,
   "id": "b242ae0e-4a4d-4503-891f-65c8493e8f69",
   "metadata": {},
   "outputs": [],
   "source": []
  },
  {
   "cell_type": "code",
   "execution_count": null,
   "id": "2e65b82e-7f2f-4dd6-b7ba-b00c05b8f089",
   "metadata": {},
   "outputs": [],
   "source": []
  },
  {
   "cell_type": "code",
   "execution_count": null,
   "id": "71d8f56f-bdcf-4e2e-ab3c-98fefba24708",
   "metadata": {},
   "outputs": [],
   "source": []
  },
  {
   "cell_type": "code",
   "execution_count": null,
   "id": "11c1a2f4-934a-4095-baed-a1531909cbe9",
   "metadata": {},
   "outputs": [],
   "source": []
  },
  {
   "cell_type": "code",
   "execution_count": null,
   "id": "919dbcf0-107a-479f-855d-abd8fa820614",
   "metadata": {},
   "outputs": [],
   "source": []
  },
  {
   "cell_type": "code",
   "execution_count": null,
   "id": "48b67ced-bd1e-48fb-bb38-afeac0da376f",
   "metadata": {},
   "outputs": [],
   "source": []
  },
  {
   "cell_type": "code",
   "execution_count": null,
   "id": "98c68412-f93a-40c5-b324-354b228d4398",
   "metadata": {},
   "outputs": [],
   "source": []
  },
  {
   "cell_type": "code",
   "execution_count": null,
   "id": "47ec5cc3-ad5c-4dbf-ae47-682bfff2bfab",
   "metadata": {},
   "outputs": [],
   "source": []
  },
  {
   "cell_type": "code",
   "execution_count": null,
   "id": "12feb87d-2aa9-4a0b-9fff-403cda4ee6d5",
   "metadata": {},
   "outputs": [],
   "source": []
  },
  {
   "cell_type": "code",
   "execution_count": null,
   "id": "ccb55a93-e249-4803-b20e-731e16a2e0c0",
   "metadata": {},
   "outputs": [],
   "source": []
  },
  {
   "cell_type": "code",
   "execution_count": null,
   "id": "b0b6ced2-b9a3-411c-8a7f-9ed5a81c8709",
   "metadata": {},
   "outputs": [],
   "source": []
  }
 ],
 "metadata": {
  "kernelspec": {
   "display_name": "Python 3 (ipykernel)",
   "language": "python",
   "name": "python3"
  },
  "language_info": {
   "codemirror_mode": {
    "name": "ipython",
    "version": 3
   },
   "file_extension": ".py",
   "mimetype": "text/x-python",
   "name": "python",
   "nbconvert_exporter": "python",
   "pygments_lexer": "ipython3",
   "version": "3.11.7"
  }
 },
 "nbformat": 4,
 "nbformat_minor": 5
}
